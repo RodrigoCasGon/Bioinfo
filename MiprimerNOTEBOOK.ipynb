{
 "cells": [
  {
   "cell_type": "markdown",
   "id": "dc477f9b-73c5-4742-8617-ac68b30b8023",
   "metadata": {},
   "source": [
    "# Mi Primer NOTEBOOK"
   ]
  },
  {
   "cell_type": "markdown",
   "id": "92b3188e-6050-4042-84da-0af73d2ac1df",
   "metadata": {},
   "source": [
    "**Este texto estara en negrita**"
   ]
  },
  {
   "cell_type": "markdown",
   "id": "09942030-a3c1-41e9-9d33-08571b34095d",
   "metadata": {},
   "source": [
    "*Este texto estará en cursiva*"
   ]
  },
  {
   "cell_type": "markdown",
   "id": "29ab014d-be1f-4dd7-a5e6-d77dcf02eb4d",
   "metadata": {},
   "source": [
    "# Título"
   ]
  },
  {
   "cell_type": "markdown",
   "id": "5d000295-e0cf-466c-abc9-49c91b447260",
   "metadata": {},
   "source": [
    "## Subtítulo"
   ]
  },
  {
   "cell_type": "markdown",
   "id": "a4807169-66ab-4bba-a1d3-9223786a1e08",
   "metadata": {},
   "source": [
    "##### Texto pequeño"
   ]
  },
  {
   "cell_type": "markdown",
   "id": "bd498dda-d9be-4b7b-973b-a28eb2d705a2",
   "metadata": {},
   "source": [
    "![Primera imagen](imagen.webp)"
   ]
  }
 ],
 "metadata": {
  "kernelspec": {
   "display_name": "Python 3 (ipykernel)",
   "language": "python",
   "name": "python3"
  },
  "language_info": {
   "codemirror_mode": {
    "name": "ipython",
    "version": 3
   },
   "file_extension": ".py",
   "mimetype": "text/x-python",
   "name": "python",
   "nbconvert_exporter": "python",
   "pygments_lexer": "ipython3",
   "version": "3.12.4"
  }
 },
 "nbformat": 4,
 "nbformat_minor": 5
}
